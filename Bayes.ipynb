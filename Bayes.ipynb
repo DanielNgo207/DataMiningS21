{
 "cells": [
  {
   "cell_type": "code",
   "execution_count": 284,
   "metadata": {},
   "outputs": [],
   "source": [
    "import numpy as np\n",
    "import pandas as pd \n",
    "import matplotlib.pyplot as plt"
   ]
  },
  {
   "cell_type": "code",
   "execution_count": 285,
   "metadata": {},
   "outputs": [],
   "source": [
    "df_2014 = pd.read_csv('./new_data/2014_US_exchange.csv', index_col=0)\n",
    "df_2015 = pd.read_csv('./new_data/2015_US_exchange.csv', index_col=0)\n",
    "df_2016 = pd.read_csv('./new_data/2016_US_exchange.csv', index_col=0)\n",
    "df_2017 = pd.read_csv('./new_data/2017_US_exchange.csv', index_col=0)\n",
    "df_2018 = pd.read_csv('./new_data/2018_US_exchange.csv', index_col=0)"
   ]
  },
  {
   "cell_type": "code",
   "execution_count": 286,
   "metadata": {},
   "outputs": [],
   "source": [
    "df_2014.rename(columns={\"2015 PRICE VAR [%]\": \"PRICE_VAR\"},inplace=True)\n",
    "df_2015.rename(columns={\"2016 PRICE VAR [%]\": \"PRICE_VAR\"},inplace=True)\n",
    "df_2016.rename(columns={\"2017 PRICE VAR [%]\": \"PRICE_VAR\"},inplace=True)\n",
    "df_2017.rename(columns={\"2018 PRICE VAR [%]\": \"PRICE_VAR\"},inplace=True)\n",
    "df_2018.rename(columns={\"2019 PRICE VAR [%]\": \"PRICE_VAR\"},inplace=True)"
   ]
  },
  {
   "cell_type": "code",
   "execution_count": 287,
   "metadata": {},
   "outputs": [
    {
     "name": "stdout",
     "output_type": "stream",
     "text": [
      "(10087, 225)\n",
      "(3741, 225)\n",
      "(3288, 225)\n"
     ]
    }
   ],
   "source": [
    "# Rename the train, validation and test sets\n",
    "train = pd.concat([df_2014, df_2015, df_2016])\n",
    "val = df_2017\n",
    "test = df_2018\n",
    "print(train.shape)\n",
    "print(val.shape)\n",
    "print(test.shape)"
   ]
  },
  {
   "cell_type": "code",
   "execution_count": 288,
   "metadata": {},
   "outputs": [
    {
     "data": {
      "text/plain": [
       "Financial Services        2237\n",
       "Technology                1490\n",
       "Industrials               1350\n",
       "Healthcare                1203\n",
       "Consumer Cyclical         1185\n",
       "Energy                     571\n",
       "Basic Materials            559\n",
       "Real Estate                557\n",
       "Consumer Defensive         447\n",
       "Utilities                  272\n",
       "Communication Services     216\n",
       "Name: Sector, dtype: int64"
      ]
     },
     "execution_count": 288,
     "metadata": {},
     "output_type": "execute_result"
    }
   ],
   "source": [
    "train[\"Sector\"].value_counts()"
   ]
  },
  {
   "cell_type": "code",
   "execution_count": 289,
   "metadata": {},
   "outputs": [
    {
     "name": "stdout",
     "output_type": "stream",
     "text": [
      "['Symbol' 'Revenue' 'Revenue Growth' 'Cost of Revenue' 'Gross Profit'\n",
      " 'R&D Expenses' 'SG&A Expense' 'Operating Expenses' 'Operating Income'\n",
      " 'Interest Expense' 'Earnings before Tax' 'Income Tax Expense'\n",
      " 'Net Income - Non-Controlling int' 'Net Income - Discontinued ops'\n",
      " 'Net Income' 'Preferred Dividends' 'Net Income Com' 'EPS' 'EPS Diluted'\n",
      " 'Weighted Average Shs Out' 'Weighted Average Shs Out (Dil)'\n",
      " 'Dividend per Share' 'Gross Margin' 'EBITDA Margin' 'EBIT Margin'\n",
      " 'Profit Margin' 'Free Cash Flow margin' 'EBITDA' 'EBIT'\n",
      " 'Consolidated Income' 'Earnings Before Tax Margin' 'Net Profit Margin'\n",
      " 'Cash and cash equivalents' 'Short-term investments'\n",
      " 'Cash and short-term investments' 'Receivables' 'Inventories'\n",
      " 'Total current assets' 'Property, Plant & Equipment Net'\n",
      " 'Goodwill and Intangible Assets' 'Long-term investments' 'Tax assets'\n",
      " 'Total non-current assets' 'Total assets' 'Payables' 'Short-term debt'\n",
      " 'Total current liabilities' 'Long-term debt' 'Total debt'\n",
      " 'Deferred revenue' 'Tax Liabilities' 'Deposit Liabilities'\n",
      " 'Total non-current liabilities' 'Total liabilities'\n",
      " 'Other comprehensive income' 'Retained earnings (deficit)'\n",
      " 'Total shareholders equity' 'Investments' 'Net Debt' 'Other Assets'\n",
      " 'Other Liabilities' 'Depreciation & Amortization'\n",
      " 'Stock-based compensation' 'Operating Cash Flow' 'Capital Expenditure'\n",
      " 'Acquisitions and disposals' 'Investment purchases and sales'\n",
      " 'Investing Cash flow' 'Issuance (repayment) of debt'\n",
      " 'Issuance (buybacks) of shares' 'Dividend payments' 'Financing Cash Flow'\n",
      " 'Effect of forex changes on cash' 'Net cash flow / Change in cash'\n",
      " 'Free Cash Flow' 'Net Cash/Marketcap' 'priceBookValueRatio'\n",
      " 'priceToBookRatio' 'priceToSalesRatio' 'priceEarningsRatio'\n",
      " 'priceToFreeCashFlowsRatio' 'priceToOperatingCashFlowsRatio'\n",
      " 'priceCashFlowRatio' 'priceEarningsToGrowthRatio' 'priceSalesRatio'\n",
      " 'dividendYield' 'enterpriseValueMultiple' 'priceFairValue'\n",
      " 'ebitperRevenue' 'ebtperEBIT' 'niperEBT' 'grossProfitMargin'\n",
      " 'operatingProfitMargin' 'pretaxProfitMargin' 'netProfitMargin'\n",
      " 'effectiveTaxRate' 'returnOnAssets' 'returnOnEquity'\n",
      " 'returnOnCapitalEmployed' 'nIperEBT' 'eBTperEBIT' 'eBITperRevenue'\n",
      " 'payablesTurnover' 'inventoryTurnover' 'fixedAssetTurnover'\n",
      " 'assetTurnover' 'currentRatio' 'quickRatio' 'cashRatio'\n",
      " 'daysOfSalesOutstanding' 'daysOfInventoryOutstanding' 'operatingCycle'\n",
      " 'daysOfPayablesOutstanding' 'cashConversionCycle' 'debtRatio'\n",
      " 'debtEquityRatio' 'longtermDebtToCapitalization'\n",
      " 'totalDebtToCapitalization' 'interestCoverage' 'cashFlowToDebtRatio'\n",
      " 'companyEquityMultiplier' 'operatingCashFlowPerShare'\n",
      " 'freeCashFlowPerShare' 'cashPerShare' 'payoutRatio'\n",
      " 'operatingCashFlowSalesRatio' 'freeCashFlowOperatingCashFlowRatio'\n",
      " 'cashFlowCoverageRatios' 'shortTermCoverageRatios'\n",
      " 'capitalExpenditureCoverageRatios' 'dividendpaidAndCapexCoverageRatios'\n",
      " 'dividendPayoutRatio' 'Revenue per Share' 'Net Income per Share'\n",
      " 'Operating Cash Flow per Share' 'Free Cash Flow per Share'\n",
      " 'Cash per Share' 'Book Value per Share' 'Tangible Book Value per Share'\n",
      " 'Shareholders Equity per Share' 'Interest Debt per Share' 'Market Cap'\n",
      " 'Enterprise Value' 'PE ratio' 'Price to Sales Ratio' 'POCF ratio'\n",
      " 'PFCF ratio' 'PB ratio' 'PTB ratio' 'EV to Sales'\n",
      " 'Enterprise Value over EBITDA' 'EV to Operating cash flow'\n",
      " 'EV to Free cash flow' 'Earnings Yield' 'Free Cash Flow Yield'\n",
      " 'Debt to Equity' 'Debt to Assets' 'Net Debt to EBITDA' 'Current ratio'\n",
      " 'Interest Coverage' 'Income Quality' 'Dividend Yield' 'Payout Ratio'\n",
      " 'SG&A to Revenue' 'R&D to Revenue' 'Intangibles to Total Assets'\n",
      " 'Capex to Operating Cash Flow' 'Capex to Revenue' 'Capex to Depreciation'\n",
      " 'Stock-based compensation to Revenue' 'Graham Number' 'ROIC'\n",
      " 'Return on Tangible Assets' 'Graham Net-Net' 'Working Capital'\n",
      " 'Tangible Asset Value' 'Net Current Asset Value' 'Invested Capital'\n",
      " 'Average Receivables' 'Average Payables' 'Average Inventory'\n",
      " 'Days Sales Outstanding' 'Days Payables Outstanding'\n",
      " 'Days of Inventory on Hand' 'Receivables Turnover' 'Payables Turnover'\n",
      " 'Inventory Turnover' 'ROE' 'Capex per Share' 'Gross Profit Growth'\n",
      " 'EBIT Growth' 'Operating Income Growth' 'Net Income Growth' 'EPS Growth'\n",
      " 'EPS Diluted Growth' 'Weighted Average Shares Growth'\n",
      " 'Weighted Average Shares Diluted Growth' 'Dividends per Share Growth'\n",
      " 'Operating Cash Flow growth' 'Free Cash Flow growth'\n",
      " '10Y Revenue Growth (per Share)' '5Y Revenue Growth (per Share)'\n",
      " '3Y Revenue Growth (per Share)' '10Y Operating CF Growth (per Share)'\n",
      " '5Y Operating CF Growth (per Share)' '3Y Operating CF Growth (per Share)'\n",
      " '10Y Net Income Growth (per Share)' '5Y Net Income Growth (per Share)'\n",
      " '3Y Net Income Growth (per Share)'\n",
      " '10Y Shareholders Equity Growth (per Share)'\n",
      " '5Y Shareholders Equity Growth (per Share)'\n",
      " '3Y Shareholders Equity Growth (per Share)'\n",
      " '10Y Dividend per Share Growth (per Share)'\n",
      " '5Y Dividend per Share Growth (per Share)'\n",
      " '3Y Dividend per Share Growth (per Share)' 'Receivables growth'\n",
      " 'Inventory Growth' 'Asset Growth' 'Book Value per Share Growth'\n",
      " 'Debt Growth' 'R&D Expense Growth' 'SG&A Expenses Growth' 'Sector'\n",
      " 'PRICE_VAR' 'Class']\n"
     ]
    }
   ],
   "source": [
    "print(train.columns.values)\n",
    "#interesting categories: 'effectiveTaxRate', 'Sector', 'Market Cap'\n",
    "#these are interesting because they are \"meta\" attributes, \n",
    "train = train.filter(items=['effectiveTaxRate', 'Sector', 'Market Cap', 'Class'])"
   ]
  },
  {
   "cell_type": "code",
   "execution_count": 290,
   "metadata": {},
   "outputs": [
    {
     "name": "stdout",
     "output_type": "stream",
     "text": [
      "(10087, 4)\n",
      "207.08333333333\n",
      "-100.4358974359\n"
     ]
    }
   ],
   "source": [
    "print(train.shape)\n",
    "train.dropna(inplace=True)\n",
    "#6573 is still sufficient data, dropna will be fine\n",
    "print(max(train[\"effectiveTaxRate\"]))\n",
    "print(min(train[\"effectiveTaxRate\"]))\n",
    "#but we have some crazy tax values. Should be between 0 and 1"
   ]
  },
  {
   "cell_type": "code",
   "execution_count": 291,
   "metadata": {},
   "outputs": [
    {
     "name": "stdout",
     "output_type": "stream",
     "text": [
      "0.98788199964671\n",
      "0.0\n"
     ]
    }
   ],
   "source": [
    "train = train[train['effectiveTaxRate'] < 1]\n",
    "train = train[train['effectiveTaxRate'] >= 0]\n",
    "print(max(train[\"effectiveTaxRate\"]))\n",
    "print(min(train[\"effectiveTaxRate\"]))"
   ]
  },
  {
   "cell_type": "code",
   "execution_count": 292,
   "metadata": {},
   "outputs": [
    {
     "data": {
      "text/plain": [
       "Text(0, 0.5, 'Frequency')"
      ]
     },
     "execution_count": 292,
     "metadata": {},
     "output_type": "execute_result"
    },
    {
     "data": {
      "image/png": "[encoded data removed]",
      "text/plain": [
       "<Figure size 432x288 with 1 Axes>"
      ]
     },
     "metadata": {
      "needs_background": "light"
     },
     "output_type": "display_data"
    }
   ],
   "source": [
    "train['effectiveTaxRateInt'] = train['effectiveTaxRate']*100\n",
    "train['effectiveTaxRateInt'] = train['effectiveTaxRateInt'].map(lambda x: int(x))\n",
    "data = list(train['effectiveTaxRateInt'])\n",
    "binsize = 5\n",
    "plt.hist(data, bins=range(min(data), max(data) + binsize, binsize))\n",
    "\n",
    "plt.title('Percent tax rate')\n",
    "plt.xlabel(\"Bins\")\n",
    "plt.ylabel(\"Frequency\")"
   ]
  },
  {
   "cell_type": "code",
   "execution_count": 293,
   "metadata": {},
   "outputs": [
    {
     "name": "stdout",
     "output_type": "stream",
     "text": [
      "96192000000000.0\n",
      "582860.98\n"
     ]
    }
   ],
   "source": [
    "#now its time to clean market cap.\n",
    "train = train[train['Market Cap'] > 0]\n",
    "print(max(train[\"Market Cap\"]))\n",
    "print(min(train[\"Market Cap\"]))\n",
    "#seems fine as 1 700 000 000 000 is amazon in 2021\n",
    "#our largest is   88 164 240 000"
   ]
  },
  {
   "cell_type": "code",
   "execution_count": 294,
   "metadata": {},
   "outputs": [
    {
     "data": {
      "text/plain": [
       "Text(0, 0.5, 'Frequency')"
      ]
     },
     "execution_count": 294,
     "metadata": {},
     "output_type": "execute_result"
    },
    {
     "data": {
      "image/png": "[encoded data removed]",
      "text/plain": [
       "<Figure size 432x288 with 1 Axes>"
      ]
     },
     "metadata": {
      "needs_background": "light"
     },
     "output_type": "display_data"
    }
   ],
   "source": [
    "train[\"Market Cap log\"] = np.log(train[\"Market Cap\"])\n",
    "train[\"Market Cap log\"] = train['Market Cap log'].map(lambda x: int(x))\n",
    "data = list(train['Market Cap log'])\n",
    "binsize = 1\n",
    "plt.hist(data, bins=range(min(data), max(data) + binsize, binsize))\n",
    "\n",
    "plt.title(\"Market Cap\")\n",
    "plt.xlabel(\"Bins (log scale)\")\n",
    "plt.ylabel(\"Frequency\")\n",
    "#its perfectly gaussian!"
   ]
  },
  {
   "cell_type": "code",
   "execution_count": 295,
   "metadata": {},
   "outputs": [],
   "source": [
    "#must convert categories to a categorical encoding so that gauss can work on it.\n",
    "train[\"Sector\"] = train[\"Sector\"].astype('category')\n",
    "train[\"SectorNo\"] = train[\"Sector\"].cat.codes\n",
    "#since I have discreteized the values into ints, its time to remove the continuous data\n",
    "train_train = train.filter(items=['effectiveTaxRateInt', 'SectorNo', 'Market Cap log'])#, 'Class'])\n",
    "train_answer_key = train.filter(items=['Class'])"
   ]
  },
  {
   "cell_type": "code",
   "execution_count": 296,
   "metadata": {},
   "outputs": [],
   "source": [
    "#validation will be done on 2017\n",
    "#i need to do all operations on val that I did to train\n",
    "val.dropna()\n",
    "val = val[val['effectiveTaxRate'] < 1]\n",
    "val = val[val['effectiveTaxRate'] >= 0]\n",
    "val['effectiveTaxRateInt'] = val['effectiveTaxRate']*100\n",
    "val['effectiveTaxRateInt'] = val['effectiveTaxRateInt'].map(lambda x: int(x))\n",
    "\n",
    "val = val[val['Market Cap'] > 0]\n",
    "val[\"Market Cap log\"] = np.log(val[\"Market Cap\"])\n",
    "val[\"Market Cap log\"] = val['Market Cap log'].map(lambda x: int(x))\n",
    "val[\"Sector\"] = val[\"Sector\"].astype('category')\n",
    "val[\"SectorNo\"] = val[\"Sector\"].cat.codes\n",
    "\n",
    "val_test = val.filter(items = ['Class'])\n",
    "val_train = val.filter(items = ['effectiveTaxRateInt', 'SectorNo', 'Market Cap log'])"
   ]
  },
  {
   "cell_type": "code",
   "execution_count": 297,
   "metadata": {},
   "outputs": [
    {
     "data": {
      "text/plain": [
       "GaussianNB()"
      ]
     },
     "execution_count": 297,
     "metadata": {},
     "output_type": "execute_result"
    }
   ],
   "source": [
    "from sklearn.naive_bayes import MultinomialNB\n",
    "from sklearn.naive_bayes import GaussianNB\n",
    "naive_bayes = MultinomialNB()\n",
    "naive_bayes.fit(train_train, train_answer_key.values.ravel())\n",
    "naive_bayes2 = GaussianNB()\n",
    "naive_bayes2.fit(train_train, train_answer_key.values.ravel())"
   ]
  },
  {
   "cell_type": "code",
   "execution_count": 298,
   "metadata": {},
   "outputs": [],
   "source": [
    "predictionsMN = naive_bayes.predict(val_train)\n",
    "predictionsGA = naive_bayes2.predict(val_train)"
   ]
  },
  {
   "cell_type": "code",
   "execution_count": 299,
   "metadata": {},
   "outputs": [
    {
     "name": "stdout",
     "output_type": "stream",
     "text": [
      "Test Confusion Matrix MN: \n",
      "[[  12 1273]\n",
      " [   4  509]]\n",
      "Accuracy score Multinomal: 0.28976640711902113\n",
      "Precision score Multinomal: 0.2856341189674523\n",
      "Recall score Multinomal: 0.9922027290448343\n",
      "F1 score Multinomal: 0.44357298474945533\n",
      "Test Confusion Matrix GA: \n",
      "[[  57 1228]\n",
      " [  14  499]]\n",
      "Accuracy score Gaussian: 0.3092324805339266\n",
      "Precision score Gaussian: 0.2889403590040533\n",
      "Recall score Gaussian: 0.9727095516569201\n",
      "F1 score Gaussian: 0.44553571428571437\n"
     ]
    }
   ],
   "source": [
    "from sklearn.metrics import accuracy_score, precision_score, recall_score, f1_score, confusion_matrix\n",
    "print(\"Test Confusion Matrix MN: \")\n",
    "print(confusion_matrix(val_test, predictionsMN))\n",
    "print('Accuracy score Multinomal: {}'.format(accuracy_score(val_test, predictionsMN)))\n",
    "print('Precision score Multinomal: {}'.format(precision_score(val_test, predictionsMN)))\n",
    "print('Recall score Multinomal: {}'.format(recall_score(val_test, predictionsMN)))\n",
    "print('F1 score Multinomal: {}'.format(f1_score(val_test, predictionsMN)))\n",
    "\n",
    "print(\"Test Confusion Matrix GA: \")\n",
    "print(confusion_matrix(val_test, predictionsGA))\n",
    "print('Accuracy score Gaussian: {}'.format(accuracy_score(val_test, predictionsGA)))\n",
    "print('Precision score Gaussian: {}'.format(precision_score(val_test, predictionsGA)))\n",
    "print('Recall score Gaussian: {}'.format(recall_score(val_test, predictionsGA)))\n",
    "print('F1 score Gaussian: {}'.format(f1_score(val_test, predictionsGA)))"
   ]
  },
  {
   "cell_type": "code",
   "execution_count": 300,
   "metadata": {},
   "outputs": [],
   "source": [
    "#and now for test results on 2018 data\n",
    "test.dropna()\n",
    "test = test[test['effectiveTaxRate'] < 1]\n",
    "test = test[test['effectiveTaxRate'] >= 0]\n",
    "test['effectiveTaxRateInt'] = test['effectiveTaxRate']*100\n",
    "test['effectiveTaxRateInt'] = test['effectiveTaxRateInt'].map(lambda x: int(x))\n",
    "\n",
    "test = test[test['Market Cap'] > 0]\n",
    "test[\"Market Cap log\"] = np.log(test[\"Market Cap\"])\n",
    "test[\"Market Cap log\"] = test['Market Cap log'].map(lambda x: int(x))\n",
    "test[\"Sector\"] = test[\"Sector\"].astype('category')\n",
    "test[\"SectorNo\"] = test[\"Sector\"].cat.codes\n",
    "\n",
    "test_test = test.filter(items = ['Class'])\n",
    "test_train = test.filter(items = ['effectiveTaxRateInt', 'SectorNo', 'Market Cap log'])"
   ]
  },
  {
   "cell_type": "code",
   "execution_count": 301,
   "metadata": {},
   "outputs": [],
   "source": [
    "predictionsMN = naive_bayes.predict(test_train)\n",
    "predictionsGA = naive_bayes2.predict(test_train)"
   ]
  },
  {
   "cell_type": "code",
   "execution_count": 302,
   "metadata": {},
   "outputs": [
    {
     "name": "stdout",
     "output_type": "stream",
     "text": [
      "Test Confusion Matrix MN: \n",
      "[[   3  372]\n",
      " [   1 1547]]\n",
      "Accuracy score Multinomal: 0.8060322412896516\n",
      "Precision score Multinomal: 0.8061490359562272\n",
      "Recall score Multinomal: 0.9993540051679587\n",
      "F1 score Multinomal: 0.8924141909431785\n",
      "Test Confusion Matrix GA: \n",
      "[[   9  366]\n",
      " [  17 1531]]\n",
      "Accuracy score Gaussian: 0.8008320332813312\n",
      "Precision score Gaussian: 0.8070637849235636\n",
      "Recall score Gaussian: 0.9890180878552972\n",
      "F1 score Gaussian: 0.8888243831640058\n"
     ]
    }
   ],
   "source": [
    "from sklearn.metrics import accuracy_score, precision_score, recall_score, f1_score, confusion_matrix\n",
    "print(\"Test Confusion Matrix MN: \")\n",
    "print(confusion_matrix(test_test, predictionsMN))\n",
    "print('Accuracy score Multinomal: {}'.format(accuracy_score(test_test, predictionsMN)))\n",
    "print('Precision score Multinomal: {}'.format(precision_score(test_test, predictionsMN)))\n",
    "print('Recall score Multinomal: {}'.format(recall_score(test_test, predictionsMN)))\n",
    "print('F1 score Multinomal: {}'.format(f1_score(test_test, predictionsMN)))\n",
    "\n",
    "print(\"Test Confusion Matrix GA: \")\n",
    "print(confusion_matrix(test_test, predictionsGA))\n",
    "print('Accuracy score Gaussian: {}'.format(accuracy_score(test_test, predictionsGA)))\n",
    "print('Precision score Gaussian: {}'.format(precision_score(test_test, predictionsGA)))\n",
    "print('Recall score Gaussian: {}'.format(recall_score(test_test, predictionsGA)))\n",
    "print('F1 score Gaussian: {}'.format(f1_score(test_test, predictionsGA)))"
   ]
  },
  {
   "cell_type": "code",
   "execution_count": 306,
   "metadata": {},
   "outputs": [],
   "source": [
    "#lets try another naive bayes, we need to put the data into bins for this one though.\n",
    "#percent tax rate is problematic so ill just drop it.\n",
    "train_train = train.filter(items = ['SectorNo', 'Market Cap log'])\n",
    "val_train = val.filter(items = ['SectorNo', 'Market Cap log'])\n",
    "test_train = test.filter(items = ['SectorNo', 'Market Cap log'])"
   ]
  },
  {
   "cell_type": "code",
   "execution_count": 307,
   "metadata": {},
   "outputs": [],
   "source": [
    "from sklearn.naive_bayes import CategoricalNB\n",
    "naive_bayes3 = CategoricalNB()\n",
    "naive_bayes3.fit(train_train, train_answer_key.values.ravel())\n",
    "predictionsCA = naive_bayes3.predict(val_train)"
   ]
  },
  {
   "cell_type": "code",
   "execution_count": 308,
   "metadata": {},
   "outputs": [
    {
     "name": "stdout",
     "output_type": "stream",
     "text": [
      "Test Confusion Matrix CA: \n",
      "[[  50 1235]\n",
      " [   9  504]]\n",
      "Accuracy score Gaussian: 0.3081201334816463\n",
      "Precision score Gaussian: 0.2898217366302473\n",
      "Recall score Gaussian: 0.9824561403508771\n",
      "F1 score Gaussian: 0.4476021314387212\n"
     ]
    }
   ],
   "source": [
    "print(\"Test Confusion Matrix CA: \")\n",
    "print(confusion_matrix(val_test, predictionsCA))\n",
    "print('Accuracy score Gaussian: {}'.format(accuracy_score(val_test, predictionsCA)))\n",
    "print('Precision score Gaussian: {}'.format(precision_score(val_test, predictionsCA)))\n",
    "print('Recall score Gaussian: {}'.format(recall_score(val_test, predictionsCA)))\n",
    "print('F1 score Gaussian: {}'.format(f1_score(val_test, predictionsCA)))"
   ]
  },
  {
   "cell_type": "code",
   "execution_count": 309,
   "metadata": {},
   "outputs": [],
   "source": [
    "predictionsCA = naive_bayes3.predict(test_train)"
   ]
  },
  {
   "cell_type": "code",
   "execution_count": 310,
   "metadata": {},
   "outputs": [
    {
     "name": "stdout",
     "output_type": "stream",
     "text": [
      "Test Confusion Matrix CA: \n",
      "[[  47  328]\n",
      " [  47 1501]]\n",
      "Accuracy score Gaussian: 0.8049921996879875\n",
      "Precision score Gaussian: 0.8206670311645708\n",
      "Recall score Gaussian: 0.9696382428940569\n",
      "F1 score Gaussian: 0.888954693514954\n"
     ]
    }
   ],
   "source": [
    "print(\"Test Confusion Matrix CA: \")\n",
    "print(confusion_matrix(test_test, predictionsCA))\n",
    "print('Accuracy score Gaussian: {}'.format(accuracy_score(test_test, predictionsCA)))\n",
    "print('Precision score Gaussian: {}'.format(precision_score(test_test, predictionsCA)))\n",
    "print('Recall score Gaussian: {}'.format(recall_score(test_test, predictionsCA)))\n",
    "print('F1 score Gaussian: {}'.format(f1_score(test_test, predictionsCA)))"
   ]
  },
  {
   "cell_type": "markdown",
   "metadata": {},
   "source": [
    "my results really depended on the year. This is consistient with Daniel Ngo's \"Random Forest\" notebook. \n",
    "it seems like the year is more important than the content. NB with meta attribute did MARGINALLY better than the random forest with financial attributes."
   ]
  },
  {
   "cell_type": "code",
   "execution_count": null,
   "metadata": {},
   "outputs": [],
   "source": []
  },
  {
   "cell_type": "code",
   "execution_count": null,
   "metadata": {},
   "outputs": [],
   "source": []
  },
  {
   "cell_type": "code",
   "execution_count": null,
   "metadata": {},
   "outputs": [],
   "source": []
  },
  {
   "cell_type": "code",
   "execution_count": null,
   "metadata": {},
   "outputs": [],
   "source": []
  },
  {
   "cell_type": "code",
   "execution_count": null,
   "metadata": {},
   "outputs": [],
   "source": []
  }
 ],
 "metadata": {
  "kernelspec": {
   "display_name": "Python 3",
   "language": "python",
   "name": "python3"
  },
  "language_info": {
   "codemirror_mode": {
    "name": "ipython",
    "version": 3
   },
   "file_extension": ".py",
   "mimetype": "text/x-python",
   "name": "python",
   "nbconvert_exporter": "python",
   "pygments_lexer": "ipython3",
   "version": "3.8.5"
  }
 },
 "nbformat": 4,
 "nbformat_minor": 4
}
